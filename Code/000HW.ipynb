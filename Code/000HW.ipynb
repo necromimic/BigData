{
 "cells": [
  {
   "cell_type": "code",
   "execution_count": 1,
   "metadata": {},
   "outputs": [
    {
     "name": "stdout",
     "output_type": "stream",
     "text": [
      "Hello World :D\n"
     ]
    }
   ],
   "source": [
    "print(\"Hello World :D\")"
   ]
  },
  {
   "cell_type": "code",
   "execution_count": 2,
   "metadata": {},
   "outputs": [
    {
     "name": "stdout",
     "output_type": "stream",
     "text": [
      "My name is Jesada Sommana\n"
     ]
    }
   ],
   "source": [
    "print(\"My name is Jesada Sommana\")"
   ]
  }
 ],
 "metadata": {
  "interpreter": {
   "hash": "3d6b132c778c087a8dd91fb9e1ea0cace8f0dc32a75bfac2bc3dbb603e3c7384"
  },
  "kernelspec": {
   "display_name": "Python 3.7.0 64-bit",
   "name": "python3"
  },
  "language_info": {
   "codemirror_mode": {
    "name": "ipython",
    "version": 3
   },
   "file_extension": ".py",
   "mimetype": "text/x-python",
   "name": "python",
   "nbconvert_exporter": "python",
   "pygments_lexer": "ipython3",
   "version": "3.7.0"
  },
  "orig_nbformat": 4
 },
 "nbformat": 4,
 "nbformat_minor": 2
}
