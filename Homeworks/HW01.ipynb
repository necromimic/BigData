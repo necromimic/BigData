{
 "cells": [
  {
   "cell_type": "code",
   "execution_count": 30,
   "source": [
    "print(\"นายเจษฎา สมณา\")\r\n",
    "print(\"6212732101\")"
   ],
   "outputs": [
    {
     "output_type": "stream",
     "name": "stdout",
     "text": [
      "นายเจษฎา สมณา\n",
      "6212732101\n"
     ]
    }
   ],
   "metadata": {}
  },
  {
   "cell_type": "code",
   "execution_count": 31,
   "source": [
    "def multi_table(n):\r\n",
    "    row = 12\r\n",
    "    print('สูตรคูณแม่ที่ '+str(n))\r\n",
    "    for i in range (1, 12 + 1):\r\n",
    "        print(\"%d * %d = %d\" % (n, i, n * i))\r\n",
    "\r\n",
    "multi_table(2)\r\n"
   ],
   "outputs": [
    {
     "output_type": "stream",
     "name": "stdout",
     "text": [
      "สูตรคูณแม่ที่ 2\n",
      "2 * 1 = 2\n",
      "2 * 2 = 4\n",
      "2 * 3 = 6\n",
      "2 * 4 = 8\n",
      "2 * 5 = 10\n",
      "2 * 6 = 12\n",
      "2 * 7 = 14\n",
      "2 * 8 = 16\n",
      "2 * 9 = 18\n",
      "2 * 10 = 20\n",
      "2 * 11 = 22\n",
      "2 * 12 = 24\n"
     ]
    }
   ],
   "metadata": {}
  },
  {
   "cell_type": "code",
   "execution_count": 32,
   "source": [
    "def multi_table(n):\r\n",
    "    row = 12\r\n",
    "    print('สูตรคูณแม่ที่ '+str(n))\r\n",
    "    for i in range (1, 25 + 1):\r\n",
    "        print(\"%d * %d = %d\" % (n, i, n * i))\r\n",
    "\r\n",
    "multi_table(2)"
   ],
   "outputs": [
    {
     "output_type": "stream",
     "name": "stdout",
     "text": [
      "สูตรคูณแม่ที่ 2\n",
      "2 * 1 = 2\n",
      "2 * 2 = 4\n",
      "2 * 3 = 6\n",
      "2 * 4 = 8\n",
      "2 * 5 = 10\n",
      "2 * 6 = 12\n",
      "2 * 7 = 14\n",
      "2 * 8 = 16\n",
      "2 * 9 = 18\n",
      "2 * 10 = 20\n",
      "2 * 11 = 22\n",
      "2 * 12 = 24\n",
      "2 * 13 = 26\n",
      "2 * 14 = 28\n",
      "2 * 15 = 30\n",
      "2 * 16 = 32\n",
      "2 * 17 = 34\n",
      "2 * 18 = 36\n",
      "2 * 19 = 38\n",
      "2 * 20 = 40\n",
      "2 * 21 = 42\n",
      "2 * 22 = 44\n",
      "2 * 23 = 46\n",
      "2 * 24 = 48\n",
      "2 * 25 = 50\n"
     ]
    }
   ],
   "metadata": {}
  }
 ],
 "metadata": {
  "orig_nbformat": 4,
  "language_info": {
   "name": "python",
   "version": "3.7.3",
   "mimetype": "text/x-python",
   "codemirror_mode": {
    "name": "ipython",
    "version": 3
   },
   "pygments_lexer": "ipython3",
   "nbconvert_exporter": "python",
   "file_extension": ".py"
  },
  "kernelspec": {
   "name": "python3",
   "display_name": "Python 3.7.3 64-bit"
  },
  "interpreter": {
   "hash": "b3ba2566441a7c06988d0923437866b63cedc61552a5af99d1f4fb67d367b25f"
  }
 },
 "nbformat": 4,
 "nbformat_minor": 2
}