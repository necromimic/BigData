{
 "cells": [
  {
   "cell_type": "code",
   "execution_count": null,
   "metadata": {},
   "outputs": [],
   "source": [
    "print(\"สาขา : วิทยาการคอมพิวเตอร์\")\n",
    "print(\"ชั้นปีที่ 3\")\n",
    "print(\"มหาวิทยาลัยราชภัฏศรีสะเกษ\")"
   ]
  }
 ],
 "metadata": {
  "language_info": {
   "name": "python"
  },
  "orig_nbformat": 4
 },
 "nbformat": 4,
 "nbformat_minor": 2
}
